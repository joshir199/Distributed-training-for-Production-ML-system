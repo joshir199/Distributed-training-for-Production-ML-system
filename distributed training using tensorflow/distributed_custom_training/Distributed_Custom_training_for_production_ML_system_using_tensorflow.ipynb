{
  "nbformat": 4,
  "nbformat_minor": 0,
  "metadata": {
    "colab": {
      "provenance": [],
      "gpuType": "T4"
    },
    "kernelspec": {
      "name": "python3",
      "display_name": "Python 3"
    },
    "language_info": {
      "name": "python"
    },
    "accelerator": "GPU",
    "widgets": {
      "application/vnd.jupyter.widget-state+json": {
        "9c1c600529ca4e9d84f03d5ed250f7b1": {
          "model_module": "@jupyter-widgets/controls",
          "model_name": "HBoxModel",
          "model_module_version": "1.5.0",
          "state": {
            "_dom_classes": [],
            "_model_module": "@jupyter-widgets/controls",
            "_model_module_version": "1.5.0",
            "_model_name": "HBoxModel",
            "_view_count": null,
            "_view_module": "@jupyter-widgets/controls",
            "_view_module_version": "1.5.0",
            "_view_name": "HBoxView",
            "box_style": "",
            "children": [
              "IPY_MODEL_eda4b6c6e4284a358a2963d878e6128c",
              "IPY_MODEL_f1ba6878a48540ea9393d6b2daf20af9",
              "IPY_MODEL_30972ca1b005445ba633ddc8b64d75ed"
            ],
            "layout": "IPY_MODEL_d0568f528aab4165ac4234e3a73a3cc7"
          }
        },
        "eda4b6c6e4284a358a2963d878e6128c": {
          "model_module": "@jupyter-widgets/controls",
          "model_name": "HTMLModel",
          "model_module_version": "1.5.0",
          "state": {
            "_dom_classes": [],
            "_model_module": "@jupyter-widgets/controls",
            "_model_module_version": "1.5.0",
            "_model_name": "HTMLModel",
            "_view_count": null,
            "_view_module": "@jupyter-widgets/controls",
            "_view_module_version": "1.5.0",
            "_view_name": "HTMLView",
            "description": "",
            "description_tooltip": null,
            "layout": "IPY_MODEL_c2c04c8e58e445c9a8aa512a5e93d5d5",
            "placeholder": "​",
            "style": "IPY_MODEL_74056388bc604ac09857d08c2097a703",
            "value": "Dl Completed...: 100%"
          }
        },
        "f1ba6878a48540ea9393d6b2daf20af9": {
          "model_module": "@jupyter-widgets/controls",
          "model_name": "FloatProgressModel",
          "model_module_version": "1.5.0",
          "state": {
            "_dom_classes": [],
            "_model_module": "@jupyter-widgets/controls",
            "_model_module_version": "1.5.0",
            "_model_name": "FloatProgressModel",
            "_view_count": null,
            "_view_module": "@jupyter-widgets/controls",
            "_view_module_version": "1.5.0",
            "_view_name": "ProgressView",
            "bar_style": "success",
            "description": "",
            "description_tooltip": null,
            "layout": "IPY_MODEL_2d1b44b0fd054701b7b621fba0537524",
            "max": 5,
            "min": 0,
            "orientation": "horizontal",
            "style": "IPY_MODEL_7bfefa5ee8c946acaa480d1a738250df",
            "value": 5
          }
        },
        "30972ca1b005445ba633ddc8b64d75ed": {
          "model_module": "@jupyter-widgets/controls",
          "model_name": "HTMLModel",
          "model_module_version": "1.5.0",
          "state": {
            "_dom_classes": [],
            "_model_module": "@jupyter-widgets/controls",
            "_model_module_version": "1.5.0",
            "_model_name": "HTMLModel",
            "_view_count": null,
            "_view_module": "@jupyter-widgets/controls",
            "_view_module_version": "1.5.0",
            "_view_name": "HTMLView",
            "description": "",
            "description_tooltip": null,
            "layout": "IPY_MODEL_ca176f48a6094ae9abc7f5449c2a4578",
            "placeholder": "​",
            "style": "IPY_MODEL_df6ce19eb10f4b37ad93ffe6a3bd137f",
            "value": " 5/5 [00:00&lt;00:00, 10.39 file/s]"
          }
        },
        "d0568f528aab4165ac4234e3a73a3cc7": {
          "model_module": "@jupyter-widgets/base",
          "model_name": "LayoutModel",
          "model_module_version": "1.2.0",
          "state": {
            "_model_module": "@jupyter-widgets/base",
            "_model_module_version": "1.2.0",
            "_model_name": "LayoutModel",
            "_view_count": null,
            "_view_module": "@jupyter-widgets/base",
            "_view_module_version": "1.2.0",
            "_view_name": "LayoutView",
            "align_content": null,
            "align_items": null,
            "align_self": null,
            "border": null,
            "bottom": null,
            "display": null,
            "flex": null,
            "flex_flow": null,
            "grid_area": null,
            "grid_auto_columns": null,
            "grid_auto_flow": null,
            "grid_auto_rows": null,
            "grid_column": null,
            "grid_gap": null,
            "grid_row": null,
            "grid_template_areas": null,
            "grid_template_columns": null,
            "grid_template_rows": null,
            "height": null,
            "justify_content": null,
            "justify_items": null,
            "left": null,
            "margin": null,
            "max_height": null,
            "max_width": null,
            "min_height": null,
            "min_width": null,
            "object_fit": null,
            "object_position": null,
            "order": null,
            "overflow": null,
            "overflow_x": null,
            "overflow_y": null,
            "padding": null,
            "right": null,
            "top": null,
            "visibility": null,
            "width": null
          }
        },
        "c2c04c8e58e445c9a8aa512a5e93d5d5": {
          "model_module": "@jupyter-widgets/base",
          "model_name": "LayoutModel",
          "model_module_version": "1.2.0",
          "state": {
            "_model_module": "@jupyter-widgets/base",
            "_model_module_version": "1.2.0",
            "_model_name": "LayoutModel",
            "_view_count": null,
            "_view_module": "@jupyter-widgets/base",
            "_view_module_version": "1.2.0",
            "_view_name": "LayoutView",
            "align_content": null,
            "align_items": null,
            "align_self": null,
            "border": null,
            "bottom": null,
            "display": null,
            "flex": null,
            "flex_flow": null,
            "grid_area": null,
            "grid_auto_columns": null,
            "grid_auto_flow": null,
            "grid_auto_rows": null,
            "grid_column": null,
            "grid_gap": null,
            "grid_row": null,
            "grid_template_areas": null,
            "grid_template_columns": null,
            "grid_template_rows": null,
            "height": null,
            "justify_content": null,
            "justify_items": null,
            "left": null,
            "margin": null,
            "max_height": null,
            "max_width": null,
            "min_height": null,
            "min_width": null,
            "object_fit": null,
            "object_position": null,
            "order": null,
            "overflow": null,
            "overflow_x": null,
            "overflow_y": null,
            "padding": null,
            "right": null,
            "top": null,
            "visibility": null,
            "width": null
          }
        },
        "74056388bc604ac09857d08c2097a703": {
          "model_module": "@jupyter-widgets/controls",
          "model_name": "DescriptionStyleModel",
          "model_module_version": "1.5.0",
          "state": {
            "_model_module": "@jupyter-widgets/controls",
            "_model_module_version": "1.5.0",
            "_model_name": "DescriptionStyleModel",
            "_view_count": null,
            "_view_module": "@jupyter-widgets/base",
            "_view_module_version": "1.2.0",
            "_view_name": "StyleView",
            "description_width": ""
          }
        },
        "2d1b44b0fd054701b7b621fba0537524": {
          "model_module": "@jupyter-widgets/base",
          "model_name": "LayoutModel",
          "model_module_version": "1.2.0",
          "state": {
            "_model_module": "@jupyter-widgets/base",
            "_model_module_version": "1.2.0",
            "_model_name": "LayoutModel",
            "_view_count": null,
            "_view_module": "@jupyter-widgets/base",
            "_view_module_version": "1.2.0",
            "_view_name": "LayoutView",
            "align_content": null,
            "align_items": null,
            "align_self": null,
            "border": null,
            "bottom": null,
            "display": null,
            "flex": null,
            "flex_flow": null,
            "grid_area": null,
            "grid_auto_columns": null,
            "grid_auto_flow": null,
            "grid_auto_rows": null,
            "grid_column": null,
            "grid_gap": null,
            "grid_row": null,
            "grid_template_areas": null,
            "grid_template_columns": null,
            "grid_template_rows": null,
            "height": null,
            "justify_content": null,
            "justify_items": null,
            "left": null,
            "margin": null,
            "max_height": null,
            "max_width": null,
            "min_height": null,
            "min_width": null,
            "object_fit": null,
            "object_position": null,
            "order": null,
            "overflow": null,
            "overflow_x": null,
            "overflow_y": null,
            "padding": null,
            "right": null,
            "top": null,
            "visibility": null,
            "width": null
          }
        },
        "7bfefa5ee8c946acaa480d1a738250df": {
          "model_module": "@jupyter-widgets/controls",
          "model_name": "ProgressStyleModel",
          "model_module_version": "1.5.0",
          "state": {
            "_model_module": "@jupyter-widgets/controls",
            "_model_module_version": "1.5.0",
            "_model_name": "ProgressStyleModel",
            "_view_count": null,
            "_view_module": "@jupyter-widgets/base",
            "_view_module_version": "1.2.0",
            "_view_name": "StyleView",
            "bar_color": null,
            "description_width": ""
          }
        },
        "ca176f48a6094ae9abc7f5449c2a4578": {
          "model_module": "@jupyter-widgets/base",
          "model_name": "LayoutModel",
          "model_module_version": "1.2.0",
          "state": {
            "_model_module": "@jupyter-widgets/base",
            "_model_module_version": "1.2.0",
            "_model_name": "LayoutModel",
            "_view_count": null,
            "_view_module": "@jupyter-widgets/base",
            "_view_module_version": "1.2.0",
            "_view_name": "LayoutView",
            "align_content": null,
            "align_items": null,
            "align_self": null,
            "border": null,
            "bottom": null,
            "display": null,
            "flex": null,
            "flex_flow": null,
            "grid_area": null,
            "grid_auto_columns": null,
            "grid_auto_flow": null,
            "grid_auto_rows": null,
            "grid_column": null,
            "grid_gap": null,
            "grid_row": null,
            "grid_template_areas": null,
            "grid_template_columns": null,
            "grid_template_rows": null,
            "height": null,
            "justify_content": null,
            "justify_items": null,
            "left": null,
            "margin": null,
            "max_height": null,
            "max_width": null,
            "min_height": null,
            "min_width": null,
            "object_fit": null,
            "object_position": null,
            "order": null,
            "overflow": null,
            "overflow_x": null,
            "overflow_y": null,
            "padding": null,
            "right": null,
            "top": null,
            "visibility": null,
            "width": null
          }
        },
        "df6ce19eb10f4b37ad93ffe6a3bd137f": {
          "model_module": "@jupyter-widgets/controls",
          "model_name": "DescriptionStyleModel",
          "model_module_version": "1.5.0",
          "state": {
            "_model_module": "@jupyter-widgets/controls",
            "_model_module_version": "1.5.0",
            "_model_name": "DescriptionStyleModel",
            "_view_count": null,
            "_view_module": "@jupyter-widgets/base",
            "_view_module_version": "1.2.0",
            "_view_name": "StyleView",
            "description_width": ""
          }
        }
      }
    }
  },
  "cells": [
    {
      "cell_type": "code",
      "source": [
        "# Distributed Custom Training using TensorFlow\n",
        "\n",
        "# The tf.distribute.Strategy API provides an abstraction for distributing your training\n",
        "# across multiple processing units. The goal is to allow users to enable distributed\n",
        "# training using existing models and training code, with minimal changes."
      ],
      "metadata": {
        "id": "FNu6quY0t4Bg"
      },
      "execution_count": 1,
      "outputs": []
    },
    {
      "cell_type": "code",
      "execution_count": 2,
      "metadata": {
        "colab": {
          "base_uri": "https://localhost:8080/"
        },
        "id": "E9Y-JxOqsFKu",
        "outputId": "0d8d4cf3-fc05-4e6c-d9a2-519677f82b4a"
      },
      "outputs": [
        {
          "output_type": "stream",
          "name": "stdout",
          "text": [
            "2.13.0\n"
          ]
        }
      ],
      "source": [
        "# Import TensorFlow\n",
        "import tensorflow as tf\n",
        "from tensorflow import keras\n",
        "import tensorflow_datasets as tfds\n",
        "import os\n",
        "print(tf.__version__)"
      ]
    },
    {
      "cell_type": "code",
      "source": [
        "default_strategy = tf.distribute.get_strategy()\n",
        "default_strategy"
      ],
      "metadata": {
        "colab": {
          "base_uri": "https://localhost:8080/"
        },
        "id": "9Btcm7XAt7WX",
        "outputId": "50a1f1bc-9599-4960-cede-95bd71fb534e"
      },
      "execution_count": 3,
      "outputs": [
        {
          "output_type": "execute_result",
          "data": {
            "text/plain": [
              "<tensorflow.python.distribute.distribute_lib._DefaultDistributionStrategy at 0x7eb2b8d2e3b0>"
            ]
          },
          "metadata": {},
          "execution_count": 3
        }
      ]
    },
    {
      "cell_type": "code",
      "source": [
        "tf.config.list_physical_devices('GPU')"
      ],
      "metadata": {
        "colab": {
          "base_uri": "https://localhost:8080/"
        },
        "id": "4oRw7ilIuJ2f",
        "outputId": "38902bd2-5a18-472d-a0f9-1fc9c7e02d5a"
      },
      "execution_count": 4,
      "outputs": [
        {
          "output_type": "execute_result",
          "data": {
            "text/plain": [
              "[PhysicalDevice(name='/physical_device:GPU:0', device_type='GPU')]"
            ]
          },
          "metadata": {},
          "execution_count": 4
        }
      ]
    },
    {
      "cell_type": "code",
      "source": [
        "# We will be looking one of the distributed training method.\n",
        "# The tf.distribute.MirroredStrategy, which does in-graph replication with synchronous\n",
        "# training on many GPUs on one machine. It works best with tf.function\n",
        "# Efficient all-reduce algorithms are used to communicate the variable updates across the devices\n",
        "\n",
        "# By default, it uses NVIDIA NCCL (NVIDIA Collective Communications Library) as\n",
        "# the all-reduce implementation.\n",
        "\n",
        "GPU_devices_list = tf.config.list_physical_devices('GPU')\n",
        "\n",
        "if GPU_devices_list:\n",
        "  if len(GPU_devices_list)==1:\n",
        "    # strategy to place all variables and computation on a single specified device\n",
        "    strategy = tf.distribute.OneDeviceStrategy(device=\"/gpu:0\")\n",
        "  else:\n",
        "    strategy = tf.distribute.MirroredStrategy()\n",
        "\n",
        "  # We can provide other cross device communication method too\n",
        "  \"\"\"\n",
        "  mirrored_strategy = tf.distribute.MirroredStrategy(\n",
        "    cross_device_ops=tf.distribute.HierarchicalCopyAllReduce())\n",
        "    \"\"\"\n",
        "else:  # use default strategy like running on CPU\n",
        "  strategy = tf.distribute.get_strategy()\n",
        "\n",
        "print(strategy)\n",
        "print('Number of devices: {}'.format(strategy.num_replicas_in_sync))"
      ],
      "metadata": {
        "colab": {
          "base_uri": "https://localhost:8080/"
        },
        "id": "Ti89SDGhuidd",
        "outputId": "4fb6b82f-e1ef-421b-9a51-a967058c1fd9"
      },
      "execution_count": 5,
      "outputs": [
        {
          "output_type": "stream",
          "name": "stdout",
          "text": [
            "<tensorflow.python.distribute.one_device_strategy.OneDeviceStrategy object at 0x7eb34b52a110>\n",
            "Number of devices: 1\n"
          ]
        }
      ]
    },
    {
      "cell_type": "code",
      "source": [
        "# Loads the standard MNIST dataset into a tf.data.Dataset\n",
        "datasets, info = tfds.load(name='mnist', with_info=True, as_supervised=True)\n",
        "\n",
        "mnist_train, mnist_test = datasets['train'], datasets['test']\n",
        "\n",
        "num_train_examples = info.splits['train'].num_examples\n",
        "num_test_examples = info.splits['test'].num_examples\n",
        "print(num_train_examples)"
      ],
      "metadata": {
        "id": "6K7aZRlFnAvj",
        "colab": {
          "base_uri": "https://localhost:8080/",
          "height": 101,
          "referenced_widgets": [
            "9c1c600529ca4e9d84f03d5ed250f7b1",
            "eda4b6c6e4284a358a2963d878e6128c",
            "f1ba6878a48540ea9393d6b2daf20af9",
            "30972ca1b005445ba633ddc8b64d75ed",
            "d0568f528aab4165ac4234e3a73a3cc7",
            "c2c04c8e58e445c9a8aa512a5e93d5d5",
            "74056388bc604ac09857d08c2097a703",
            "2d1b44b0fd054701b7b621fba0537524",
            "7bfefa5ee8c946acaa480d1a738250df",
            "ca176f48a6094ae9abc7f5449c2a4578",
            "df6ce19eb10f4b37ad93ffe6a3bd137f"
          ]
        },
        "outputId": "8f30aca1-bf7b-47a5-f619-f1b9e43789f6"
      },
      "execution_count": 6,
      "outputs": [
        {
          "output_type": "stream",
          "name": "stdout",
          "text": [
            "Downloading and preparing dataset 11.06 MiB (download: 11.06 MiB, generated: 21.00 MiB, total: 32.06 MiB) to /root/tensorflow_datasets/mnist/3.0.1...\n"
          ]
        },
        {
          "output_type": "display_data",
          "data": {
            "text/plain": [
              "Dl Completed...:   0%|          | 0/5 [00:00<?, ? file/s]"
            ],
            "application/vnd.jupyter.widget-view+json": {
              "version_major": 2,
              "version_minor": 0,
              "model_id": "9c1c600529ca4e9d84f03d5ed250f7b1"
            }
          },
          "metadata": {}
        },
        {
          "output_type": "stream",
          "name": "stdout",
          "text": [
            "Dataset mnist downloaded and prepared to /root/tensorflow_datasets/mnist/3.0.1. Subsequent calls will reuse this data.\n",
            "60000\n"
          ]
        }
      ]
    },
    {
      "cell_type": "code",
      "source": [
        "# Defining Hyperparameters\n",
        "\n",
        "BUFFER_SIZE = 10000\n",
        "# batch size\n",
        "BATCH_SIZE_PER_REPLICA = 64\n",
        "# batch size (also called global_batch_size) when training on multiple GPUs\n",
        "BATCH_SIZE = BATCH_SIZE_PER_REPLICA * strategy.num_replicas_in_sync\n",
        "\n",
        "EPOCH = 20\n",
        "BATCH_SIZE"
      ],
      "metadata": {
        "id": "zR6a1PqNoeK_",
        "colab": {
          "base_uri": "https://localhost:8080/"
        },
        "outputId": "718adc36-afc9-4ab3-8339-07ffd36bb474"
      },
      "execution_count": 7,
      "outputs": [
        {
          "output_type": "execute_result",
          "data": {
            "text/plain": [
              "64"
            ]
          },
          "metadata": {},
          "execution_count": 7
        }
      ]
    },
    {
      "cell_type": "code",
      "source": [
        "# Data Augmentation methods\n",
        "def scaling(image, label):\n",
        "  image = tf.cast(image, tf.float32)\n",
        "  image = image/127.5 - 1\n",
        "  return image, label\n"
      ],
      "metadata": {
        "id": "RFUQECbXo2eJ"
      },
      "execution_count": 8,
      "outputs": []
    },
    {
      "cell_type": "code",
      "source": [
        "# create input dataset pipeline\n",
        "def create_input_pipeline(mnist_train, mnist_test):\n",
        "  train_dataset = mnist_train.map(scaling).cache().shuffle(BUFFER_SIZE).batch(BATCH_SIZE)\n",
        "  eval_dataset = mnist_test.map(scaling).batch(BATCH_SIZE)\n",
        "\n",
        "  # Distribute input data to available devices\n",
        "  train_dist_dataset = strategy.experimental_distribute_dataset(train_dataset)\n",
        "  eval_dist_dataset = strategy.experimental_distribute_dataset(eval_dataset)\n",
        "\n",
        "  return train_dist_dataset, eval_dist_dataset"
      ],
      "metadata": {
        "id": "ZIUV8IGWp9k_"
      },
      "execution_count": 9,
      "outputs": []
    },
    {
      "cell_type": "code",
      "source": [
        "\n",
        "# define the simple Convolution model funtion\n",
        "class SimpleConvModel(keras.Model):\n",
        "\n",
        "  def __init__(self, IMG_SIZE=28, output_classes=10, **kwargs):\n",
        "    super().__init__(**kwargs)\n",
        "    self.regularizer = keras.regularizers.L2(1e-5)\n",
        "    self.conv1 = keras.layers.Conv2D(32, 3, activation='relu',\n",
        "                                     input_shape=(IMG_SIZE, IMG_SIZE, 1),\n",
        "                                     kernel_regularizer=self.regularizer)\n",
        "    self.maxpool1 = keras.layers.MaxPooling2D()\n",
        "    self.conv2 = keras.layers.Conv2D(64, 3, activation='relu',\n",
        "                                     kernel_regularizer=self.regularizer)\n",
        "    self.maxpool2 = keras.layers.MaxPooling2D()\n",
        "    self.flatten = keras.layers.Flatten()\n",
        "    self.dense1 = keras.layers.Dense(64, activation='relu')\n",
        "    self.dense2 = keras.layers.Dense(output_classes)\n",
        "\n",
        "  def call(self, input):\n",
        "    x = self.conv1(input)\n",
        "    x = self.maxpool1(x)\n",
        "    x = self.conv2(x)\n",
        "    x = self.maxpool2(x)\n",
        "    x = self.flatten(x)\n",
        "    x = self.dense1(x)\n",
        "    x = self.dense2(x)\n",
        "    return x\n",
        "\n",
        "\n",
        "def create_model(IMG_SIZE):\n",
        "  conv_model = tf.keras.Sequential([\n",
        "      tf.keras.layers.Conv2D(32, 3, activation='relu', input_shape=(IMG_SIZE, IMG_SIZE, 1)),\n",
        "      tf.keras.layers.MaxPooling2D(),\n",
        "      tf.keras.layers.Flatten(),\n",
        "      tf.keras.layers.Dense(64, activation='relu'),\n",
        "      tf.keras.layers.Dense(10)\n",
        "  ])\n",
        "  return conv_model"
      ],
      "metadata": {
        "id": "lFO8XAYU4O3K"
      },
      "execution_count": 10,
      "outputs": []
    },
    {
      "cell_type": "code",
      "source": [
        "# Create a checkpoint directory to store the checkpoints.\n",
        "checkpoint_dir = './training_checkpoints'\n",
        "checkpoint_prefix = os.path.join(checkpoint_dir, \"ckpt\")"
      ],
      "metadata": {
        "id": "cfo8laoEVahX"
      },
      "execution_count": 11,
      "outputs": []
    },
    {
      "cell_type": "code",
      "source": [
        "# Defining the Loss function and Metrics for training is the most important part of the\n",
        "# custom training with tensorflow distributed strategy\n",
        "\n",
        "\"\"\"\n",
        "Loss function consist of two parts:\n",
        "1. Prediction Loss: It measures how far off the model's predictions are from the\n",
        "   training labels for a batch of training examples.\n",
        "\n",
        "2. Regularization Loss: It is added to steer the model away from overfitting the\n",
        "   training data. E.g : L2 regularization, which adds a small fixed multiple of the\n",
        "   sum of squares of all model weights, independent of the number of examples.\n",
        "\"\"\"\n",
        "\n",
        "# For training on a single machine with a single GPU/CPU, this works as follows:\n",
        "\n",
        "# 1. The prediction loss is computed for each example in the batch, summed across\n",
        "#    the batch, and then divided by the batch size.\n",
        "# 2. The regularization loss is added to the prediction loss.\n",
        "# 3. The gradient of the total loss is computed w.r.t. each model weight, and the\n",
        "#    optimizer updates each model weight from the corresponding gradient.\n",
        "\n",
        "\n",
        "# For Training on multiple GPU/CPUs of single machine :\n",
        "\"\"\"\n",
        "1. Each replica computes the prediction loss for all examples distributed to it,\n",
        "   sums up the results and divides them by num_replicas_in_sync * BATCH_SIZE_PER_REPLICA,\n",
        "   or equivently, GLOBAL_BATCH_SIZE.\n",
        "\n",
        "2. Each replica compues the regularization loss and divides them by num_replicas_in_sync.\n",
        "\n",
        "3. Each replica computes the loss from the training examples it gets and computes the\n",
        "   gradients of the loss w.r.t. each model weight. The optimizer takes care that these\n",
        "   gradients are summed up across replicas before using them to update the copies\n",
        "   of the model weights on each replica.\n",
        "\"\"\"\n",
        "\n"
      ],
      "metadata": {
        "colab": {
          "base_uri": "https://localhost:8080/",
          "height": 87
        },
        "id": "Np4KUuUX0_YL",
        "outputId": "0c4ca552-bfce-461b-a63d-a0baf2d8a2a1"
      },
      "execution_count": 12,
      "outputs": [
        {
          "output_type": "execute_result",
          "data": {
            "text/plain": [
              "'\\n1. Each replica computes the prediction loss for all examples distributed to it, \\n   sums up the results and divides them by num_replicas_in_sync * BATCH_SIZE_PER_REPLICA, \\n   or equivently, GLOBAL_BATCH_SIZE.\\n\\n2. Each replica compues the regularization loss and divides them by num_replicas_in_sync.\\n\\n3. Each replica computes the loss from the training examples it gets and computes the \\n   gradients of the loss w.r.t. each model weight. The optimizer takes care that these \\n   gradients are summed up across replicas before using them to update the copies \\n   of the model weights on each replica.\\n'"
            ],
            "application/vnd.google.colaboratory.intrinsic+json": {
              "type": "string"
            }
          },
          "metadata": {},
          "execution_count": 12
        }
      ]
    },
    {
      "cell_type": "code",
      "source": [
        "# Points to remember while calculating loss in custom training\n",
        "\n",
        "# 1. If you're writing a custom training loop, as in this tutorial, you should sum\n",
        "#    the per-example losses and divide the sum by the global batch size using\n",
        "#    tf.nn.compute_average_loss, which takes the per-example losses and optional\n",
        "#    sample weights as arguments and returns the scaled loss.\n",
        "\n",
        "# 2. If using tf.keras.losses classes (as in the example below), the loss reduction\n",
        "#    needs to be explicitly specified to be one of NONE or SUM. The default AUTO\n",
        "#    and SUM_OVER_BATCH_SIZE are disallowed outside Model.fit.\n",
        "\n",
        "# 3. A custom training loop for a model with a non-empty list of Model.losses\n",
        "#    (e.g., weight regularizers), you should sum the tf.nn.scale_regularization_loss\n",
        "#    up and divide the sum by the number of replicas."
      ],
      "metadata": {
        "id": "Dx0myzlIAhmt"
      },
      "execution_count": 13,
      "outputs": []
    },
    {
      "cell_type": "code",
      "source": [
        "# define optimizer and metrics inside\n",
        "# Optimizer, Metrics definition should be within the scope.\n",
        "\n",
        "with strategy.scope():\n",
        "\n",
        "  loss_fn = tf.keras.losses.SparseCategoricalCrossentropy(\n",
        "      from_logits=True, reduction= tf.keras.losses.Reduction.NONE)\n",
        "\n",
        "  def compute_loss(y_true, y_pred, model_losses):\n",
        "    per_example_loss = loss_fn(y_true, y_pred)  # prediction loss for single example\n",
        "    avg_loss = tf.nn.compute_average_loss(\n",
        "        per_example_loss,\n",
        "        global_batch_size=BATCH_SIZE) # loss/global_batch_size\n",
        "\n",
        "    if model_losses:\n",
        "      # adding regularization loss\n",
        "      avg_loss = avg_loss + tf.nn.scale_regularization_loss(tf.math.add_n(model_losses))\n",
        "\n",
        "    return avg_loss"
      ],
      "metadata": {
        "id": "9IB_UZ4XqPzk"
      },
      "execution_count": 14,
      "outputs": []
    },
    {
      "cell_type": "code",
      "source": [
        "# Some Special cases while calculating losses in distributed custom training\n",
        "\n",
        "# 1. Input batches shorter than GLOBAL_BATCH_SIZE create bad results.\n",
        "\n",
        "# solution:\n",
        "\"\"\"\n",
        "Dataset.repeat().batch(): This pipeline operation is used to allow batches to span\n",
        " epoch boundaries. It repeats the dataset indefinitely and batches it accordingly.\n",
        " It's a common practice to ensure that each training example is seen at least once\n",
        " in each training epoch.\n",
        "\n",
        "Dataset.batch(drop_remainder=True): This operation batches the data but drops the\n",
        " last few examples if they don't form a complete batch. This is often used when\n",
        " maintaining a notion of epochs is important.\n",
        "\"\"\"\n",
        "\n",
        "# 2. Consider a classification task where you have input images, and you want to\n",
        "#    perform pixel-wise classification. In this case, each pixel in an image can\n",
        "#    belong to one of several classes, resulting in multi-dimensional labels.\n",
        "\"\"\"\n",
        "With predictions of shape (batch_size, H, W, n_classes) and labels of shape (batch_size, H, W)\n",
        "We need to update per_example_loss like:\n",
        "per_example_loss /= tf.cast(tf.reduce_prod(tf.shape(labels)[1:]), tf.float32)\n",
        "\n",
        " * tf.shape(labels)[1:]: This gets the shape of the labels tensor excluding the first\n",
        "   dimension (batch size), resulting in a shape of (H, W).\n",
        "\n",
        " * tf.reduce_prod(...): This computes the product of all elements in the tensor, which\n",
        "   gives you the total number of predictions in each example (H * W).\n",
        "\"\"\"\n",
        "\n",
        "# Note: Loss functions in tf.losses/tf.keras.losses typically return the average over\n",
        "#       the last dimension of the input. The loss classes wrap these functions."
      ],
      "metadata": {
        "colab": {
          "base_uri": "https://localhost:8080/",
          "height": 70
        },
        "id": "ztWdp3PGVN17",
        "outputId": "e6525c87-7fe1-474b-8ae4-2a580323463d"
      },
      "execution_count": 15,
      "outputs": [
        {
          "output_type": "execute_result",
          "data": {
            "text/plain": [
              "'\\nWith predictions of shape (batch_size, H, W, n_classes) and labels of shape (batch_size, H, W)\\nWe need to update per_example_loss like: \\nper_example_loss /= tf.cast(tf.reduce_prod(tf.shape(labels)[1:]), tf.float32)\\n\\n * tf.shape(labels)[1:]: This gets the shape of the labels tensor excluding the first \\n   dimension (batch size), resulting in a shape of (H, W).\\n\\n * tf.reduce_prod(...): This computes the product of all elements in the tensor, which \\n   gives you the total number of predictions in each example (H * W).\\n'"
            ],
            "application/vnd.google.colaboratory.intrinsic+json": {
              "type": "string"
            }
          },
          "metadata": {},
          "execution_count": 15
        }
      ]
    },
    {
      "cell_type": "code",
      "source": [
        "# Defining metrics for testing and training (should be under scope)\n",
        "\n",
        "with strategy.scope():\n",
        "\n",
        "  test_loss = tf.keras.metrics.Mean(name=\"test loss\")\n",
        "\n",
        "  train_accuracy = tf.keras.metrics.SparseCategoricalAccuracy(name=\"train accuracy\")\n",
        "\n",
        "  test_accuracy = tf.keras.metrics.SparseCategoricalAccuracy(name=\"test accuracy\")\n",
        "\n",
        "  # Note: .result() can be called to get accumulated value."
      ],
      "metadata": {
        "id": "yTGfFpCWYyOl"
      },
      "execution_count": 16,
      "outputs": []
    },
    {
      "cell_type": "code",
      "source": [
        "# Define Optimizer and Model within the scope\n",
        "\n",
        "\n",
        "with strategy.scope():\n",
        "\n",
        "  # Define custom learning rates depended on epoch\n",
        "  #  [0,2] = 0.002, [3,5] = 0.001 & [6,9] = 0.0005\n",
        "  boundaries = [3, 6]\n",
        "  values = [0.002, 0.001, 0.0005]\n",
        "\n",
        "  learning_rate_fn = tf.keras.optimizers.schedules.PiecewiseConstantDecay(boundaries, values)\n",
        "\n",
        "  optimizer_fn = tf.keras.optimizers.Adam(learning_rate=learning_rate_fn)\n",
        "\n",
        "  model = SimpleConvModel(28, 10)\n",
        "\n",
        "  # checkpoint for storing best model trained and its weights as Fault tolerance.\n",
        "  checkpoint = tf.train.Checkpoint(optimizer=optimizer_fn, model=model)"
      ],
      "metadata": {
        "id": "crYMDxb-Z435"
      },
      "execution_count": 17,
      "outputs": []
    },
    {
      "cell_type": "code",
      "source": [
        "# Define training and testing step\n",
        "\n",
        "def train_step(input_data):\n",
        "  image, label = input_data\n",
        "\n",
        "  with tf.GradientTape() as tape:\n",
        "    y_pred = model(image, training=True)\n",
        "    loss = compute_loss(label, y_pred, model.losses)\n",
        "\n",
        "  grad = tape.gradient(loss, model.trainable_variables)\n",
        "  optimizer_fn.apply_gradients(zip(grad, model.trainable_variables))\n",
        "\n",
        "  train_accuracy.update_state(label, y_pred)\n",
        "\n",
        "  return loss\n",
        "\n",
        "\n",
        "def test_step(input_data):\n",
        "\n",
        "  image, label = input_data\n",
        "\n",
        "  y_pred = model(image, training=False)\n",
        "  t_loss = loss_fn(label, y_pred)\n",
        "\n",
        "  test_loss.update_state(t_loss)\n",
        "  test_accuracy.update_state(label, y_pred)\n",
        "\n"
      ],
      "metadata": {
        "id": "UaJQUXFhcE-v"
      },
      "execution_count": 18,
      "outputs": []
    },
    {
      "cell_type": "code",
      "source": [
        "# strategy `run` replicates the provided computation and runs it\n",
        "# with the distributed input.\n",
        "\n",
        "@tf.function\n",
        "def distributed_train_step(dataset_inputs):\n",
        "  per_replica_losses = strategy.run(train_step, args=(dataset_inputs,))\n",
        "\n",
        "  total_losses = strategy.reduce(tf.distribute.ReduceOp.SUM, per_replica_losses,axis=None)\n",
        "  return total_losses\n",
        "\n",
        "\n",
        "@tf.function\n",
        "def distributed_test_step(dataset_inputs):\n",
        "  return strategy.run(test_step, args=(dataset_inputs,))"
      ],
      "metadata": {
        "id": "pY8NX6ZYhfoT"
      },
      "execution_count": 19,
      "outputs": []
    },
    {
      "cell_type": "code",
      "source": [
        "# Custom training cycle for epochs\n",
        "\n",
        "def run_training():\n",
        "\n",
        "  # Training LOOP steps\n",
        "  training_losses = []\n",
        "  testing_losses = []\n",
        "  train_dist_dataset, test_dist_dataset = create_input_pipeline(mnist_train, mnist_test)\n",
        "\n",
        "  for epoch in range(EPOCH):\n",
        "    total_losses = 0.0\n",
        "    num_batches = 0\n",
        "    cnt = 0\n",
        "\n",
        "    for x in train_dist_dataset:\n",
        "      if cnt%50 == 0:\n",
        "        print ('=', end='')\n",
        "      cnt += 1\n",
        "      total_losses = total_losses + distributed_train_step(x)\n",
        "      num_batches = num_batches + 1\n",
        "\n",
        "    print('  number of batches : {} '.format(num_batches))\n",
        "    training_losses.append(total_losses/num_batches)\n",
        "\n",
        "    # Testing LOOP steps starts now\n",
        "\n",
        "    for x in test_dist_dataset:\n",
        "      distributed_test_step(x)\n",
        "\n",
        "    if epoch % 5 == 0:\n",
        "      checkpoint.save(checkpoint_prefix)\n",
        "\n",
        "    template = (\"Epoch {}, Loss: {}, Accuracy: {}, Test Loss: {}, \"\n",
        "              \"Test Accuracy: {}\")\n",
        "    print(template.format(epoch + 1, total_losses, train_accuracy.result() * 100,\n",
        "                          test_loss.result(),test_accuracy.result() * 100))\n",
        "\n",
        "    testing_losses.append(test_loss.result())\n",
        "    test_loss.reset_states()\n",
        "    train_accuracy.reset_states()\n",
        "    test_accuracy.reset_states()\n",
        "\n",
        "  return training_losses, testing_losses\n",
        "\n"
      ],
      "metadata": {
        "id": "Ft_c8denih9D"
      },
      "execution_count": 20,
      "outputs": []
    },
    {
      "cell_type": "code",
      "source": [
        "training_losses_list, testing_losses_list = run_training()"
      ],
      "metadata": {
        "colab": {
          "base_uri": "https://localhost:8080/"
        },
        "id": "s7QQBTSInaYn",
        "outputId": "482a2010-ee6c-4b3f-ecb4-87011c4ab29a"
      },
      "execution_count": 21,
      "outputs": [
        {
          "output_type": "stream",
          "name": "stdout",
          "text": [
            "===================  number of batches : 938 \n",
            "Epoch 1, Loss: 189.7763214111328, Accuracy: 94.08333587646484, Test Loss: 0.05769084021449089, Test Accuracy: 98.23999786376953\n",
            "===================  number of batches : 938 \n",
            "Epoch 2, Loss: 58.43972396850586, Accuracy: 98.13500213623047, Test Loss: 0.04469546675682068, Test Accuracy: 98.55999755859375\n",
            "===================  number of batches : 938 \n",
            "Epoch 3, Loss: 42.19900131225586, Accuracy: 98.63500213623047, Test Loss: 0.04085664823651314, Test Accuracy: 98.70999908447266\n",
            "===================  number of batches : 938 \n",
            "Epoch 4, Loss: 33.12581253051758, Accuracy: 98.95999908447266, Test Loss: 0.042245104908943176, Test Accuracy: 98.69999694824219\n",
            "===================  number of batches : 938 \n",
            "Epoch 5, Loss: 27.400165557861328, Accuracy: 99.12666320800781, Test Loss: 0.029834304004907608, Test Accuracy: 98.97999572753906\n",
            "===================  number of batches : 938 \n",
            "Epoch 6, Loss: 21.876054763793945, Accuracy: 99.34166717529297, Test Loss: 0.029020439833402634, Test Accuracy: 99.04000091552734\n",
            "===================  number of batches : 938 \n",
            "Epoch 7, Loss: 18.149484634399414, Accuracy: 99.42666625976562, Test Loss: 0.031789328902959824, Test Accuracy: 99.04999542236328\n",
            "===================  number of batches : 938 \n",
            "Epoch 8, Loss: 14.860204696655273, Accuracy: 99.54666137695312, Test Loss: 0.030121512711048126, Test Accuracy: 99.06999969482422\n",
            "===================  number of batches : 938 \n",
            "Epoch 9, Loss: 11.963688850402832, Accuracy: 99.63500213623047, Test Loss: 0.0244252011179924, Test Accuracy: 99.30999755859375\n",
            "===================  number of batches : 938 \n",
            "Epoch 10, Loss: 11.41254997253418, Accuracy: 99.63500213623047, Test Loss: 0.029393203556537628, Test Accuracy: 99.15999603271484\n",
            "===================  number of batches : 938 \n",
            "Epoch 11, Loss: 9.049139022827148, Accuracy: 99.72000122070312, Test Loss: 0.027091216295957565, Test Accuracy: 99.23999786376953\n",
            "===================  number of batches : 938 \n",
            "Epoch 12, Loss: 7.887869834899902, Accuracy: 99.77833557128906, Test Loss: 0.026728369295597076, Test Accuracy: 99.2699966430664\n",
            "===================  number of batches : 938 \n",
            "Epoch 13, Loss: 7.000070095062256, Accuracy: 99.80999755859375, Test Loss: 0.028902942314743996, Test Accuracy: 99.31999969482422\n",
            "===================  number of batches : 938 \n",
            "Epoch 14, Loss: 6.341341018676758, Accuracy: 99.8316650390625, Test Loss: 0.03125033155083656, Test Accuracy: 99.19000244140625\n",
            "===================  number of batches : 938 \n",
            "Epoch 15, Loss: 5.8178510665893555, Accuracy: 99.85832977294922, Test Loss: 0.039789989590644836, Test Accuracy: 99.04999542236328\n",
            "===================  number of batches : 938 \n",
            "Epoch 16, Loss: 5.694111347198486, Accuracy: 99.86499786376953, Test Loss: 0.0350470170378685, Test Accuracy: 99.1500015258789\n",
            "===================  number of batches : 938 \n",
            "Epoch 17, Loss: 5.995108127593994, Accuracy: 99.83000183105469, Test Loss: 0.041364122182130814, Test Accuracy: 99.08000183105469\n",
            "===================  number of batches : 938 \n",
            "Epoch 18, Loss: 4.801919460296631, Accuracy: 99.87333679199219, Test Loss: 0.032311853021383286, Test Accuracy: 99.22000122070312\n",
            "===================  number of batches : 938 \n",
            "Epoch 19, Loss: 4.710500717163086, Accuracy: 99.89833068847656, Test Loss: 0.035209041088819504, Test Accuracy: 99.18000030517578\n",
            "===================  number of batches : 938 \n",
            "Epoch 20, Loss: 3.9878592491149902, Accuracy: 99.92500305175781, Test Loss: 0.030171850696206093, Test Accuracy: 99.27999877929688\n"
          ]
        }
      ]
    },
    {
      "cell_type": "code",
      "source": [
        "import numpy as np\n",
        "import matplotlib.pyplot as plt\n",
        "\n",
        "plt.figure(figsize=(8, 8))\n",
        "plt.title(\"Learning curve for MirroredStrategy() distributed training using custom training process\")\n",
        "plt.plot(training_losses_list, label=\"training_loss\")\n",
        "plt.plot(testing_losses_list, label=\"testing_loss\")\n",
        "plt.xlabel(\"epochs\")\n",
        "plt.ylabel(\"log_loss\")\n",
        "plt.legend()"
      ],
      "metadata": {
        "colab": {
          "base_uri": "https://localhost:8080/",
          "height": 735
        },
        "id": "X3pbTAfZzDJQ",
        "outputId": "b9884fa4-9335-4891-cf90-95d23375a53a"
      },
      "execution_count": 22,
      "outputs": [
        {
          "output_type": "execute_result",
          "data": {
            "text/plain": [
              "<matplotlib.legend.Legend at 0x7eb29d556890>"
            ]
          },
          "metadata": {},
          "execution_count": 22
        },
        {
          "output_type": "display_data",
          "data": {
            "text/plain": [
              "<Figure size 800x800 with 1 Axes>"
            ],
            "image/png": "[encoded data removed]"
          },
          "metadata": {}
        }
      ]
    },
    {
      "cell_type": "code",
      "source": [
        "# Define Learning Rate Scheduler\n",
        "def decay(epoch):\n",
        "  if epoch < 3:\n",
        "    return 1e-3\n",
        "  elif epoch >= 3 and epoch < 7:\n",
        "    return 1e-4\n",
        "  else:\n",
        "    return 1e-5"
      ],
      "metadata": {
        "id": "ZVHR7dZ26sOt"
      },
      "execution_count": 23,
      "outputs": []
    },
    {
      "cell_type": "code",
      "source": [
        "# Callback for printing the LR at the end of each epoch.\n",
        "class PrintLR(tf.keras.callbacks.Callback):\n",
        "  def on_epoch_end(self, epoch, logs=None):\n",
        "    print('\\nLearning rate for epoch {} is {}'.format(epoch + 1,\n",
        "                                                      model.optimizer.lr.numpy()))"
      ],
      "metadata": {
        "id": "GUjhhz3a66zH"
      },
      "execution_count": 24,
      "outputs": []
    },
    {
      "cell_type": "code",
      "source": [
        "# Restore the latest checkpoint and test\n",
        "# A model checkpointed with a tf.distribute.Strategy can be restored with or without a strategy.\n",
        "\n",
        "eval_accuracy = tf.keras.metrics.SparseCategoricalAccuracy(\n",
        "      name='eval_accuracy')\n",
        "\n",
        "new_model = SimpleConvModel()\n",
        "new_optimizer = tf.keras.optimizers.Adam()\n",
        "\n",
        "checkpoint = tf.train.Checkpoint(optimizer=new_optimizer, model=new_model)\n",
        "checkpoint.restore(tf.train.latest_checkpoint(checkpoint_dir))\n",
        "\n",
        "\n",
        "@tf.function\n",
        "def eval_step(images, labels):\n",
        "  predictions = new_model(images, training=False)\n",
        "  eval_accuracy(labels, predictions)"
      ],
      "metadata": {
        "id": "qm_C39G72H3f"
      },
      "execution_count": 25,
      "outputs": []
    },
    {
      "cell_type": "code",
      "source": [
        "# Saving and Loading model in distribute strategy\n",
        "\"\"\"\n",
        "There are two kinds of APIs for saving and loading a Keras model:\n",
        "1. high-level (tf.keras.Model.save and tf.keras.models.load_model) # (.keras zip archive format)\n",
        "2. low-level (tf.saved_model.save and tf.saved_model.load).   # (TF SavedModel format)\n",
        "\n",
        "Note that you can get a Keras model back only if you saved a Keras model.\n",
        "\n",
        "Note: In custom training, Make sure custom classes are decorated with\n",
        " @keras.saving.register_keras_serializable() is need\n",
        "\n",
        "\"\"\"\n",
        "\n",
        "path = '/tmp/tf_save.keras'\n",
        "\n",
        "# Save the entire model as a SavedModel.\n",
        "model.save(path)"
      ],
      "metadata": {
        "id": "b9VicjpvHZ-e"
      },
      "execution_count": 26,
      "outputs": []
    },
    {
      "cell_type": "code",
      "source": [
        "# Loading the model\n",
        "# Here, model can be loaded with or without any distributed strategy\n",
        "restored_tf_model = tf.keras.models.load_model(path)\n",
        "\n",
        "# After restoring the model, you can continue training on it, even without needing\n",
        "# to call Model.compile again, since it was already compiled before saving.\n",
        "# restored_tf_model.fit(train_dataset, epochs=2)"
      ],
      "metadata": {
        "id": "zsKS3mPLJOXL"
      },
      "execution_count": null,
      "outputs": []
    },
    {
      "cell_type": "code",
      "source": [
        "# Loading model with Strategy\n",
        "\n",
        "# Note: The strategy used here does not have to be the same strategy used before saving.\n",
        "another_strategy = tf.distribute.MirroredStrategy()\n",
        "with another_strategy.scope():\n",
        "  restored_tf_model_ds = tf.keras.models.load_model(path)\n",
        "  #restored_tf_model_ds.fit(train_dataset, epochs=2)"
      ],
      "metadata": {
        "id": "kWrO8Y7PKJhw"
      },
      "execution_count": null,
      "outputs": []
    }
  ]
}