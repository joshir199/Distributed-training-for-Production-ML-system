{
  "nbformat": 4,
  "nbformat_minor": 0,
  "metadata": {
    "colab": {
      "provenance": []
    },
    "kernelspec": {
      "name": "python3",
      "display_name": "Python 3"
    },
    "language_info": {
      "name": "python"
    }
  },
  "cells": [
    {
      "cell_type": "code",
      "source": [
        "# Distributed Training using TensorFlow\n",
        "\n",
        "# The tf.distribute.Strategy API provides an abstraction for distributing your training\n",
        "# across multiple processing units. The goal is to allow users to enable distributed\n",
        "# training using existing models and training code, with minimal changes."
      ],
      "metadata": {
        "id": "FNu6quY0t4Bg"
      },
      "execution_count": 1,
      "outputs": []
    },
    {
      "cell_type": "code",
      "execution_count": 2,
      "metadata": {
        "colab": {
          "base_uri": "https://localhost:8080/"
        },
        "id": "E9Y-JxOqsFKu",
        "outputId": "dea476a1-100c-4b22-cc26-bcbbd5086a86"
      },
      "outputs": [
        {
          "output_type": "stream",
          "name": "stdout",
          "text": [
            "2.13.0\n"
          ]
        }
      ],
      "source": [
        "# Import TensorFlow\n",
        "import tensorflow as tf\n",
        "import tensorflow_datasets as tfds\n",
        "import os\n",
        "print(tf.__version__)"
      ]
    },
    {
      "cell_type": "code",
      "source": [
        "default_strategy = tf.distribute.get_strategy()\n",
        "default_strategy"
      ],
      "metadata": {
        "colab": {
          "base_uri": "https://localhost:8080/"
        },
        "id": "9Btcm7XAt7WX",
        "outputId": "56693a72-273c-48ee-e370-e00c76070632"
      },
      "execution_count": 3,
      "outputs": [
        {
          "output_type": "execute_result",
          "data": {
            "text/plain": [
              "<tensorflow.python.distribute.distribute_lib._DefaultDistributionStrategy at 0x7b37217ae950>"
            ]
          },
          "metadata": {},
          "execution_count": 3
        }
      ]
    },
    {
      "cell_type": "code",
      "source": [
        "tf.config.list_physical_devices('GPU')"
      ],
      "metadata": {
        "colab": {
          "base_uri": "https://localhost:8080/"
        },
        "id": "4oRw7ilIuJ2f",
        "outputId": "87c59c0b-56b4-4fab-f637-5b964917f47b"
      },
      "execution_count": 26,
      "outputs": [
        {
          "output_type": "execute_result",
          "data": {
            "text/plain": [
              "[PhysicalDevice(name='/physical_device:GPU:0', device_type='GPU')]"
            ]
          },
          "metadata": {},
          "execution_count": 26
        }
      ]
    },
    {
      "cell_type": "code",
      "source": [
        "# We will be looking one of the distributed training method.\n",
        "# The tf.distribute.MirroredStrategy, which does in-graph replication with synchronous\n",
        "# training on many GPUs on one machine. It works best with tf.function\n",
        "# Efficient all-reduce algorithms are used to communicate the variable updates across the devices\n",
        "\n",
        "# By default, it uses NVIDIA NCCL (NVIDIA Collective Communications Library) as\n",
        "# the all-reduce implementation.\n",
        "\n",
        "GPU_devices_list = tf.config.list_physical_devices('GPU')\n",
        "\n",
        "if GPU_devices_list:\n",
        "  if len(GPU_devices_list)==1:\n",
        "    # strategy to place all variables and computation on a single specified device\n",
        "    strategy = tf.distribute.OneDeviceStrategy(device=\"/gpu:0\")\n",
        "  else:\n",
        "    strategy = tf.distribute.MirroredStrategy()\n",
        "\n",
        "  # We can provide other cross device communication method too\n",
        "  \"\"\"\n",
        "  mirrored_strategy = tf.distribute.MirroredStrategy(\n",
        "    cross_device_ops=tf.distribute.HierarchicalCopyAllReduce())\n",
        "    \"\"\"\n",
        "else:  # use default strategy like running on CPU\n",
        "  strategy = tf.distribute.get_strategy()\n",
        "\n",
        "print(strategy)\n",
        "print('Number of devices: {}'.format(strategy.num_replicas_in_sync))"
      ],
      "metadata": {
        "colab": {
          "base_uri": "https://localhost:8080/"
        },
        "id": "Ti89SDGhuidd",
        "outputId": "2f9c857d-206a-4a8c-fdcd-aab2fae13ffe"
      },
      "execution_count": 29,
      "outputs": [
        {
          "output_type": "stream",
          "name": "stdout",
          "text": [
            "<tensorflow.python.distribute.one_device_strategy.OneDeviceStrategy object at 0x7b367e175090>\n",
            "Number of devices: 1\n"
          ]
        }
      ]
    },
    {
      "cell_type": "code",
      "source": [
        "# Loads the standard MNIST dataset into a tf.data.Dataset\n",
        "datasets, info = tfds.load(name='mnist', with_info=True, as_supervised=True)\n",
        "\n",
        "mnist_train, mnist_test = datasets['train'], datasets['test']\n",
        "\n",
        "num_train_examples = info.splits['train'].num_examples\n",
        "num_test_examples = info.splits['test'].num_examples"
      ],
      "metadata": {
        "id": "6K7aZRlFnAvj"
      },
      "execution_count": 30,
      "outputs": []
    },
    {
      "cell_type": "code",
      "source": [
        "# Defining Hyperparameters\n",
        "\n",
        "BUFFER_SIZE = 10000\n",
        "# batch size\n",
        "BATCH_SIZE_PER_REPLICA = 64\n",
        "# batch size (also called global_batch_size) when training on multiple GPUs\n",
        "BATCH_SIZE = BATCH_SIZE_PER_REPLICA * strategy.num_replicas_in_sync"
      ],
      "metadata": {
        "id": "zR6a1PqNoeK_"
      },
      "execution_count": 31,
      "outputs": []
    },
    {
      "cell_type": "code",
      "source": [
        "# Data Augmentation methods\n",
        "def scaling(image, label):\n",
        "  image = tf.cast(image, tf.float32)\n",
        "  image = image/127.5 - 1\n",
        "  return image, label\n"
      ],
      "metadata": {
        "id": "RFUQECbXo2eJ"
      },
      "execution_count": 32,
      "outputs": []
    },
    {
      "cell_type": "code",
      "source": [
        "# create input dataset pipeline\n",
        "train_dataset = mnist_train.map(scaling).cache().shuffle(BUFFER_SIZE).batch(BATCH_SIZE)\n",
        "eval_dataset = mnist_test.map(scaling).batch(BATCH_SIZE)"
      ],
      "metadata": {
        "id": "ZIUV8IGWp9k_"
      },
      "execution_count": 33,
      "outputs": []
    },
    {
      "cell_type": "code",
      "source": [
        "# define the simple Convolution model funtion\n",
        "def create_model(IMG_SIZE):\n",
        "  conv_model = tf.keras.Sequential([\n",
        "      tf.keras.layers.Conv2D(32, 3, activation='relu', input_shape=(IMG_SIZE, IMG_SIZE, 1)),\n",
        "      tf.keras.layers.MaxPooling2D(),\n",
        "      tf.keras.layers.Flatten(),\n",
        "      tf.keras.layers.Dense(64, activation='relu'),\n",
        "      tf.keras.layers.Dense(10)\n",
        "  ])\n",
        "  return conv_model"
      ],
      "metadata": {
        "id": "lFO8XAYU4O3K"
      },
      "execution_count": 34,
      "outputs": []
    },
    {
      "cell_type": "code",
      "source": [
        "# define and Move the creation of Keras model, optimizer and metrics inside\n",
        "# Model creation and Optimizer, Metrics definition should be within the scope.\n",
        "\n",
        "with strategy.scope():\n",
        "  loss_fn = tf.keras.losses.SparseCategoricalCrossentropy(from_logits=True)\n",
        "  metric = tf.keras.metrics.SparseCategoricalAccuracy()\n",
        "  optimizer = tf.keras.optimizers.Adam()\n",
        "\n",
        "  model = create_model(IMG_SIZE=28)\n",
        "  model.compile(\n",
        "      optimizer=optimizer,\n",
        "      loss=loss_fn,\n",
        "      metrics=metric\n",
        "  )"
      ],
      "metadata": {
        "id": "9IB_UZ4XqPzk"
      },
      "execution_count": 35,
      "outputs": []
    },
    {
      "cell_type": "code",
      "source": [
        "# Define Learning Rate Scheduler\n",
        "def decay(epoch):\n",
        "  if epoch < 3:\n",
        "    return 1e-3\n",
        "  elif epoch >= 3 and epoch < 7:\n",
        "    return 1e-4\n",
        "  else:\n",
        "    return 1e-5"
      ],
      "metadata": {
        "id": "ZVHR7dZ26sOt"
      },
      "execution_count": 36,
      "outputs": []
    },
    {
      "cell_type": "code",
      "source": [
        "# Callback for printing the LR at the end of each epoch.\n",
        "class PrintLR(tf.keras.callbacks.Callback):\n",
        "  def on_epoch_end(self, epoch, logs=None):\n",
        "    print('\\nLearning rate for epoch {} is {}'.format(epoch + 1,\n",
        "                                                      model.optimizer.lr.numpy()))"
      ],
      "metadata": {
        "id": "GUjhhz3a66zH"
      },
      "execution_count": 37,
      "outputs": []
    },
    {
      "cell_type": "code",
      "source": [
        "# Define callbacks\n",
        "callbacks = [ tf.keras.callbacks.LearningRateScheduler(decay),\n",
        "             PrintLR()\n",
        "]"
      ],
      "metadata": {
        "id": "mOpBilB-6_fj"
      },
      "execution_count": 38,
      "outputs": []
    },
    {
      "cell_type": "code",
      "source": [
        "# Let's run the training step on training dataset. This step is the same whether\n",
        "# you are distributing (strategy) the training or not.\n",
        "model.fit(train_dataset, epochs=20, callbacks=callbacks)"
      ],
      "metadata": {
        "colab": {
          "base_uri": "https://localhost:8080/"
        },
        "id": "4yQ3UDhZ7YeI",
        "outputId": "25389dd3-ebe8-4d5d-bad6-894bde13de89"
      },
      "execution_count": 39,
      "outputs": [
        {
          "output_type": "stream",
          "name": "stdout",
          "text": [
            "Epoch 1/20\n",
            "933/938 [============================>.] - ETA: 0s - loss: 0.2014 - sparse_categorical_accuracy: 0.9414\n",
            "Learning rate for epoch 1 is 0.0010000000474974513\n",
            "938/938 [==============================] - 11s 9ms/step - loss: 0.2008 - sparse_categorical_accuracy: 0.9416 - lr: 0.0010\n",
            "Epoch 2/20\n",
            "925/938 [============================>.] - ETA: 0s - loss: 0.0706 - sparse_categorical_accuracy: 0.9785\n",
            "Learning rate for epoch 2 is 0.0010000000474974513\n",
            "938/938 [==============================] - 4s 4ms/step - loss: 0.0702 - sparse_categorical_accuracy: 0.9786 - lr: 0.0010\n",
            "Epoch 3/20\n",
            "936/938 [============================>.] - ETA: 0s - loss: 0.0501 - sparse_categorical_accuracy: 0.9848\n",
            "Learning rate for epoch 3 is 0.0010000000474974513\n",
            "938/938 [==============================] - 4s 5ms/step - loss: 0.0501 - sparse_categorical_accuracy: 0.9848 - lr: 0.0010\n",
            "Epoch 4/20\n",
            "930/938 [============================>.] - ETA: 0s - loss: 0.0267 - sparse_categorical_accuracy: 0.9925\n",
            "Learning rate for epoch 4 is 9.999999747378752e-05\n",
            "938/938 [==============================] - 4s 4ms/step - loss: 0.0267 - sparse_categorical_accuracy: 0.9926 - lr: 1.0000e-04\n",
            "Epoch 5/20\n",
            "931/938 [============================>.] - ETA: 0s - loss: 0.0236 - sparse_categorical_accuracy: 0.9938\n",
            "Learning rate for epoch 5 is 9.999999747378752e-05\n",
            "938/938 [==============================] - 4s 4ms/step - loss: 0.0236 - sparse_categorical_accuracy: 0.9938 - lr: 1.0000e-04\n",
            "Epoch 6/20\n",
            "931/938 [============================>.] - ETA: 0s - loss: 0.0218 - sparse_categorical_accuracy: 0.9946\n",
            "Learning rate for epoch 6 is 9.999999747378752e-05\n",
            "938/938 [==============================] - 4s 4ms/step - loss: 0.0217 - sparse_categorical_accuracy: 0.9947 - lr: 1.0000e-04\n",
            "Epoch 7/20\n",
            "938/938 [==============================] - ETA: 0s - loss: 0.0202 - sparse_categorical_accuracy: 0.9952\n",
            "Learning rate for epoch 7 is 9.999999747378752e-05\n",
            "938/938 [==============================] - 4s 4ms/step - loss: 0.0202 - sparse_categorical_accuracy: 0.9952 - lr: 1.0000e-04\n",
            "Epoch 8/20\n",
            "937/938 [============================>.] - ETA: 0s - loss: 0.0174 - sparse_categorical_accuracy: 0.9962\n",
            "Learning rate for epoch 8 is 9.999999747378752e-06\n",
            "938/938 [==============================] - 4s 4ms/step - loss: 0.0174 - sparse_categorical_accuracy: 0.9962 - lr: 1.0000e-05\n",
            "Epoch 9/20\n",
            "927/938 [============================>.] - ETA: 0s - loss: 0.0171 - sparse_categorical_accuracy: 0.9964\n",
            "Learning rate for epoch 9 is 9.999999747378752e-06\n",
            "938/938 [==============================] - 6s 6ms/step - loss: 0.0171 - sparse_categorical_accuracy: 0.9963 - lr: 1.0000e-05\n",
            "Epoch 10/20\n",
            "933/938 [============================>.] - ETA: 0s - loss: 0.0169 - sparse_categorical_accuracy: 0.9964\n",
            "Learning rate for epoch 10 is 9.999999747378752e-06\n",
            "938/938 [==============================] - 4s 4ms/step - loss: 0.0170 - sparse_categorical_accuracy: 0.9964 - lr: 1.0000e-05\n",
            "Epoch 11/20\n",
            "928/938 [============================>.] - ETA: 0s - loss: 0.0168 - sparse_categorical_accuracy: 0.9963\n",
            "Learning rate for epoch 11 is 9.999999747378752e-06\n",
            "938/938 [==============================] - 4s 4ms/step - loss: 0.0168 - sparse_categorical_accuracy: 0.9963 - lr: 1.0000e-05\n",
            "Epoch 12/20\n",
            "928/938 [============================>.] - ETA: 0s - loss: 0.0166 - sparse_categorical_accuracy: 0.9963\n",
            "Learning rate for epoch 12 is 9.999999747378752e-06\n",
            "938/938 [==============================] - 4s 4ms/step - loss: 0.0166 - sparse_categorical_accuracy: 0.9963 - lr: 1.0000e-05\n",
            "Epoch 13/20\n",
            "933/938 [============================>.] - ETA: 0s - loss: 0.0165 - sparse_categorical_accuracy: 0.9965\n",
            "Learning rate for epoch 13 is 9.999999747378752e-06\n",
            "938/938 [==============================] - 4s 4ms/step - loss: 0.0164 - sparse_categorical_accuracy: 0.9965 - lr: 1.0000e-05\n",
            "Epoch 14/20\n",
            "929/938 [============================>.] - ETA: 0s - loss: 0.0162 - sparse_categorical_accuracy: 0.9966\n",
            "Learning rate for epoch 14 is 9.999999747378752e-06\n",
            "938/938 [==============================] - 4s 4ms/step - loss: 0.0163 - sparse_categorical_accuracy: 0.9966 - lr: 1.0000e-05\n",
            "Epoch 15/20\n",
            "930/938 [============================>.] - ETA: 0s - loss: 0.0162 - sparse_categorical_accuracy: 0.9966\n",
            "Learning rate for epoch 15 is 9.999999747378752e-06\n",
            "938/938 [==============================] - 4s 4ms/step - loss: 0.0161 - sparse_categorical_accuracy: 0.9966 - lr: 1.0000e-05\n",
            "Epoch 16/20\n",
            "933/938 [============================>.] - ETA: 0s - loss: 0.0160 - sparse_categorical_accuracy: 0.9967\n",
            "Learning rate for epoch 16 is 9.999999747378752e-06\n",
            "938/938 [==============================] - 4s 4ms/step - loss: 0.0160 - sparse_categorical_accuracy: 0.9967 - lr: 1.0000e-05\n",
            "Epoch 17/20\n",
            "929/938 [============================>.] - ETA: 0s - loss: 0.0157 - sparse_categorical_accuracy: 0.9967\n",
            "Learning rate for epoch 17 is 9.999999747378752e-06\n",
            "938/938 [==============================] - 5s 5ms/step - loss: 0.0158 - sparse_categorical_accuracy: 0.9967 - lr: 1.0000e-05\n",
            "Epoch 18/20\n",
            "930/938 [============================>.] - ETA: 0s - loss: 0.0157 - sparse_categorical_accuracy: 0.9968\n",
            "Learning rate for epoch 18 is 9.999999747378752e-06\n",
            "938/938 [==============================] - 4s 4ms/step - loss: 0.0157 - sparse_categorical_accuracy: 0.9968 - lr: 1.0000e-05\n",
            "Epoch 19/20\n",
            "931/938 [============================>.] - ETA: 0s - loss: 0.0156 - sparse_categorical_accuracy: 0.9968\n",
            "Learning rate for epoch 19 is 9.999999747378752e-06\n",
            "938/938 [==============================] - 4s 4ms/step - loss: 0.0155 - sparse_categorical_accuracy: 0.9968 - lr: 1.0000e-05\n",
            "Epoch 20/20\n",
            "927/938 [============================>.] - ETA: 0s - loss: 0.0154 - sparse_categorical_accuracy: 0.9968\n",
            "Learning rate for epoch 20 is 9.999999747378752e-06\n",
            "938/938 [==============================] - 4s 4ms/step - loss: 0.0154 - sparse_categorical_accuracy: 0.9968 - lr: 1.0000e-05\n"
          ]
        },
        {
          "output_type": "execute_result",
          "data": {
            "text/plain": [
              "<keras.src.callbacks.History at 0x7b367e1753c0>"
            ]
          },
          "metadata": {},
          "execution_count": 39
        }
      ]
    },
    {
      "cell_type": "code",
      "source": [
        "eval_loss, eval_acc = model.evaluate(eval_dataset)"
      ],
      "metadata": {
        "colab": {
          "base_uri": "https://localhost:8080/"
        },
        "id": "tEV5wTOwAQpi",
        "outputId": "c6a6231c-e721-4858-f91b-ecc28ef273de"
      },
      "execution_count": 40,
      "outputs": [
        {
          "output_type": "stream",
          "name": "stdout",
          "text": [
            "157/157 [==============================] - 1s 8ms/step - loss: 0.0398 - sparse_categorical_accuracy: 0.9870\n"
          ]
        }
      ]
    },
    {
      "cell_type": "code",
      "source": [
        "print('Eval loss: {}, Eval accuracy: {}'.format(eval_loss, eval_acc))"
      ],
      "metadata": {
        "colab": {
          "base_uri": "https://localhost:8080/"
        },
        "id": "vmjf7QlWAR0q",
        "outputId": "40397c29-0c88-439b-fac1-463e94763c3f"
      },
      "execution_count": 41,
      "outputs": [
        {
          "output_type": "stream",
          "name": "stdout",
          "text": [
            "Eval loss: 0.03976801782846451, Eval accuracy: 0.9869999885559082\n"
          ]
        }
      ]
    },
    {
      "cell_type": "code",
      "source": [
        "# From manual observation\n",
        "# 1. default_strategy\n",
        "default_strategy_training_time = [27]*20\n",
        "default_strategy_training_time[0] = 35\n",
        "default_strategy_training_time[1] = 31\n",
        "default_strategy_training_time[-1] = 28\n",
        "\n",
        "# 2. OneDevice Strategy\n",
        "onedevice_strategy_training_time = [4]*20\n",
        "onedevice_strategy_training_time[0] = 9\n",
        "\n",
        "# 3. MirroredStrategy\n",
        "mirrored_strategy_training_time = [5]*20\n",
        "mirrored_strategy_training_time[0] = 8"
      ],
      "metadata": {
        "id": "wMFHquCDAV2T"
      },
      "execution_count": 45,
      "outputs": []
    },
    {
      "cell_type": "code",
      "source": [
        "import matplotlib.pyplot as plt\n",
        "\n",
        "plt.figure(figsize=(10, 8))\n",
        "plt.title(\"training time graph for different strategy\")\n",
        "plt.plot(default_strategy_training_time, label=\"default_strategy_training_time\")\n",
        "plt.plot(onedevice_strategy_training_time, label=\"onedevice_strategy_training_time\")\n",
        "plt.plot(mirrored_strategy_training_time, label=\"mirrored_strategy_training_time\")\n",
        "\n",
        "plt.xlabel(\"epochs\")\n",
        "plt.ylabel(\"time in seconds\")\n",
        "plt.legend()"
      ],
      "metadata": {
        "colab": {
          "base_uri": "https://localhost:8080/",
          "height": 735
        },
        "id": "fbVjJPCxEx7g",
        "outputId": "faf7af3f-6da0-4664-accf-6a44fdcb158f"
      },
      "execution_count": 47,
      "outputs": [
        {
          "output_type": "execute_result",
          "data": {
            "text/plain": [
              "<matplotlib.legend.Legend at 0x7b366a1c2920>"
            ]
          },
          "metadata": {},
          "execution_count": 47
        },
        {
          "output_type": "display_data",
          "data": {
            "text/plain": [
              "<Figure size 1000x800 with 1 Axes>"
            ],
            "image/png": "[encoded data removed]"
          },
          "metadata": {}
        }
      ]
    },
    {
      "cell_type": "code",
      "source": [
        "# Saving and Loading model in distribute strategy\n",
        "\"\"\"\n",
        "There are two kinds of APIs for saving and loading a Keras model:\n",
        "1. high-level (tf.keras.Model.save and tf.keras.models.load_model) # (.keras zip archive format)\n",
        "2. low-level (tf.saved_model.save and tf.saved_model.load).   # (TF SavedModel format)\n",
        "\n",
        "Note that you can get a Keras model back only if you saved a Keras model.\n",
        "\n",
        "\"\"\"\n",
        "\n",
        "path = '/tmp/tf_save.keras'\n",
        "\n",
        "# Save the entire model as a SavedModel.\n",
        "model.save(path)"
      ],
      "metadata": {
        "id": "b9VicjpvHZ-e"
      },
      "execution_count": null,
      "outputs": []
    },
    {
      "cell_type": "code",
      "source": [
        "# Loading the model\n",
        "# Here, model can be loaded with or without any distributed strategy\n",
        "restored_tf_model = tf.keras.models.load_model(path)\n",
        "\n",
        "# After restoring the model, you can continue training on it, even without needing\n",
        "# to call Model.compile again, since it was already compiled before saving.\n",
        "restored_tf_model.fit(train_dataset, epochs=2)"
      ],
      "metadata": {
        "id": "zsKS3mPLJOXL"
      },
      "execution_count": null,
      "outputs": []
    },
    {
      "cell_type": "code",
      "source": [
        "# Loading model with Strategy\n",
        "\n",
        "# Note: The strategy used here does not have to be the same strategy used before saving.\n",
        "another_strategy = tf.distribute.MirroredStrategy()\n",
        "with another_strategy.scope():\n",
        "  restored_tf_model_ds = tf.keras.models.load_model(path)\n",
        "  restored_tf_model_ds.fit(train_dataset, epochs=2)"
      ],
      "metadata": {
        "id": "kWrO8Y7PKJhw"
      },
      "execution_count": null,
      "outputs": []
    },
    {
      "cell_type": "code",
      "source": [
        "#*******************\n",
        "# Important Points\n",
        "\"\"\"\n",
        "1. Model, loss_fun, optimizer, metrics and compile should be initiated within the\n",
        "   scope of strategy only.\n",
        "\n",
        "2. All the variables and the model graph are replicated across the replicas. Input is\n",
        "   evenly distributed across the replicas.\n",
        "\n",
        "3. All the code can be put inside a single scope.\n",
        "\n",
        "\"\"\""
      ],
      "metadata": {
        "id": "1zSgmcl1HRzX"
      },
      "execution_count": null,
      "outputs": []
    }
  ]
}